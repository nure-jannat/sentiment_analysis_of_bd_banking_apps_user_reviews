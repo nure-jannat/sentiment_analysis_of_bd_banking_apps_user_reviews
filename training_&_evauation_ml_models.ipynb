{
 "cells": [
  {
   "cell_type": "code",
   "execution_count": 1,
   "id": "4480804d",
   "metadata": {
    "execution": {
     "iopub.execute_input": "2025-05-14T17:11:42.650725Z",
     "iopub.status.busy": "2025-05-14T17:11:42.649873Z",
     "iopub.status.idle": "2025-05-14T17:11:45.815343Z",
     "shell.execute_reply": "2025-05-14T17:11:45.814444Z"
    },
    "papermill": {
     "duration": 3.173894,
     "end_time": "2025-05-14T17:11:45.817082",
     "exception": false,
     "start_time": "2025-05-14T17:11:42.643188",
     "status": "completed"
    },
    "tags": []
   },
   "outputs": [],
   "source": [
    "import pandas as pd \n",
    "df = pd.read_csv(\"/kaggle/input/spl-preprocessed-reviews/spl_preprocessed_reviews_14_may_2025.csv\")"
   ]
  },
  {
   "cell_type": "code",
   "execution_count": 2,
   "id": "11532104",
   "metadata": {
    "execution": {
     "iopub.execute_input": "2025-05-14T17:11:45.828575Z",
     "iopub.status.busy": "2025-05-14T17:11:45.827503Z",
     "iopub.status.idle": "2025-05-14T17:11:45.854573Z",
     "shell.execute_reply": "2025-05-14T17:11:45.853666Z"
    },
    "papermill": {
     "duration": 0.034272,
     "end_time": "2025-05-14T17:11:45.856239",
     "exception": false,
     "start_time": "2025-05-14T17:11:45.821967",
     "status": "completed"
    },
    "tags": []
   },
   "outputs": [
    {
     "data": {
      "text/html": [
       "<div>\n",
       "<style scoped>\n",
       "    .dataframe tbody tr th:only-of-type {\n",
       "        vertical-align: middle;\n",
       "    }\n",
       "\n",
       "    .dataframe tbody tr th {\n",
       "        vertical-align: top;\n",
       "    }\n",
       "\n",
       "    .dataframe thead th {\n",
       "        text-align: right;\n",
       "    }\n",
       "</style>\n",
       "<table border=\"1\" class=\"dataframe\">\n",
       "  <thead>\n",
       "    <tr style=\"text-align: right;\">\n",
       "      <th></th>\n",
       "      <th>review_text</th>\n",
       "      <th>sentiment</th>\n",
       "      <th>review_time</th>\n",
       "      <th>rating</th>\n",
       "      <th>app_name</th>\n",
       "      <th>cleaned_review</th>\n",
       "      <th>tokens</th>\n",
       "      <th>filtered_tokens</th>\n",
       "      <th>lemmatized</th>\n",
       "      <th>lang_type</th>\n",
       "    </tr>\n",
       "  </thead>\n",
       "  <tbody>\n",
       "    <tr>\n",
       "      <th>0</th>\n",
       "      <td>not good not bad</td>\n",
       "      <td>Negative</td>\n",
       "      <td>2025-04-09 3:08:43</td>\n",
       "      <td>5</td>\n",
       "      <td>Agrani Smart Banking App</td>\n",
       "      <td>not good not bad</td>\n",
       "      <td>['not', 'good', 'not', 'bad']</td>\n",
       "      <td>['not', 'good', 'not', 'bad']</td>\n",
       "      <td>['not', 'good', 'not', 'bad']</td>\n",
       "      <td>english</td>\n",
       "    </tr>\n",
       "    <tr>\n",
       "      <th>1</th>\n",
       "      <td>nice</td>\n",
       "      <td>Positive</td>\n",
       "      <td>2025-04-06 3:26:31</td>\n",
       "      <td>5</td>\n",
       "      <td>Agrani Smart Banking App</td>\n",
       "      <td>nice</td>\n",
       "      <td>['nice']</td>\n",
       "      <td>['nice']</td>\n",
       "      <td>['nice']</td>\n",
       "      <td>english</td>\n",
       "    </tr>\n",
       "    <tr>\n",
       "      <th>2</th>\n",
       "      <td>really helpful app nice working</td>\n",
       "      <td>Positive</td>\n",
       "      <td>2025-04-02 19:45:17</td>\n",
       "      <td>4</td>\n",
       "      <td>Agrani Smart Banking App</td>\n",
       "      <td>really helpful app nice working</td>\n",
       "      <td>['really', 'helpful', 'app', 'nice', 'working']</td>\n",
       "      <td>['really', 'helpful', 'app', 'nice', 'working']</td>\n",
       "      <td>['really', 'helpful', 'app', 'nice', 'working']</td>\n",
       "      <td>english</td>\n",
       "    </tr>\n",
       "    <tr>\n",
       "      <th>3</th>\n",
       "      <td>good</td>\n",
       "      <td>Positive</td>\n",
       "      <td>2025-03-27 17:46:04</td>\n",
       "      <td>5</td>\n",
       "      <td>Agrani Smart Banking App</td>\n",
       "      <td>good</td>\n",
       "      <td>['good']</td>\n",
       "      <td>['good']</td>\n",
       "      <td>['good']</td>\n",
       "      <td>english</td>\n",
       "    </tr>\n",
       "    <tr>\n",
       "      <th>4</th>\n",
       "      <td>good.. job...</td>\n",
       "      <td>Positive</td>\n",
       "      <td>2025-03-27 7:57:25</td>\n",
       "      <td>3</td>\n",
       "      <td>Agrani Smart Banking App</td>\n",
       "      <td>good job</td>\n",
       "      <td>['good', 'job']</td>\n",
       "      <td>['good', 'job']</td>\n",
       "      <td>['good', 'job']</td>\n",
       "      <td>english</td>\n",
       "    </tr>\n",
       "  </tbody>\n",
       "</table>\n",
       "</div>"
      ],
      "text/plain": [
       "                       review_text sentiment          review_time  rating  \\\n",
       "0                 not good not bad  Negative   2025-04-09 3:08:43       5   \n",
       "1                             nice  Positive   2025-04-06 3:26:31       5   \n",
       "2  really helpful app nice working  Positive  2025-04-02 19:45:17       4   \n",
       "3                             good  Positive  2025-03-27 17:46:04       5   \n",
       "4                    good.. job...  Positive   2025-03-27 7:57:25       3   \n",
       "\n",
       "                   app_name                   cleaned_review  \\\n",
       "0  Agrani Smart Banking App                 not good not bad   \n",
       "1  Agrani Smart Banking App                             nice   \n",
       "2  Agrani Smart Banking App  really helpful app nice working   \n",
       "3  Agrani Smart Banking App                             good   \n",
       "4  Agrani Smart Banking App                         good job   \n",
       "\n",
       "                                            tokens  \\\n",
       "0                    ['not', 'good', 'not', 'bad']   \n",
       "1                                         ['nice']   \n",
       "2  ['really', 'helpful', 'app', 'nice', 'working']   \n",
       "3                                         ['good']   \n",
       "4                                  ['good', 'job']   \n",
       "\n",
       "                                   filtered_tokens  \\\n",
       "0                    ['not', 'good', 'not', 'bad']   \n",
       "1                                         ['nice']   \n",
       "2  ['really', 'helpful', 'app', 'nice', 'working']   \n",
       "3                                         ['good']   \n",
       "4                                  ['good', 'job']   \n",
       "\n",
       "                                        lemmatized lang_type  \n",
       "0                    ['not', 'good', 'not', 'bad']   english  \n",
       "1                                         ['nice']   english  \n",
       "2  ['really', 'helpful', 'app', 'nice', 'working']   english  \n",
       "3                                         ['good']   english  \n",
       "4                                  ['good', 'job']   english  "
      ]
     },
     "execution_count": 2,
     "metadata": {},
     "output_type": "execute_result"
    }
   ],
   "source": [
    "df.head()"
   ]
  },
  {
   "cell_type": "code",
   "execution_count": 3,
   "id": "a96c6788",
   "metadata": {
    "execution": {
     "iopub.execute_input": "2025-05-14T17:11:45.867275Z",
     "iopub.status.busy": "2025-05-14T17:11:45.866956Z",
     "iopub.status.idle": "2025-05-14T17:11:45.887336Z",
     "shell.execute_reply": "2025-05-14T17:11:45.886453Z"
    },
    "papermill": {
     "duration": 0.027544,
     "end_time": "2025-05-14T17:11:45.888775",
     "exception": false,
     "start_time": "2025-05-14T17:11:45.861231",
     "status": "completed"
    },
    "tags": []
   },
   "outputs": [
    {
     "data": {
      "text/plain": [
       "lang_type\n",
       "english    1396\n",
       "bangla      168\n",
       "mixed        54\n",
       "Name: count, dtype: int64"
      ]
     },
     "execution_count": 3,
     "metadata": {},
     "output_type": "execute_result"
    }
   ],
   "source": [
    "df[df['sentiment'].notna()]['lang_type'].value_counts()"
   ]
  },
  {
   "cell_type": "code",
   "execution_count": 4,
   "id": "a48eedf3",
   "metadata": {
    "execution": {
     "iopub.execute_input": "2025-05-14T17:11:45.899925Z",
     "iopub.status.busy": "2025-05-14T17:11:45.899629Z",
     "iopub.status.idle": "2025-05-14T17:11:45.907409Z",
     "shell.execute_reply": "2025-05-14T17:11:45.906677Z"
    },
    "papermill": {
     "duration": 0.015141,
     "end_time": "2025-05-14T17:11:45.908903",
     "exception": false,
     "start_time": "2025-05-14T17:11:45.893762",
     "status": "completed"
    },
    "tags": []
   },
   "outputs": [],
   "source": [
    "labeled_df = df[df['sentiment'].notna()]"
   ]
  },
  {
   "cell_type": "code",
   "execution_count": 5,
   "id": "4d243b22",
   "metadata": {
    "execution": {
     "iopub.execute_input": "2025-05-14T17:11:45.920144Z",
     "iopub.status.busy": "2025-05-14T17:11:45.919376Z",
     "iopub.status.idle": "2025-05-14T17:11:45.926311Z",
     "shell.execute_reply": "2025-05-14T17:11:45.925654Z"
    },
    "papermill": {
     "duration": 0.013739,
     "end_time": "2025-05-14T17:11:45.927568",
     "exception": false,
     "start_time": "2025-05-14T17:11:45.913829",
     "status": "completed"
    },
    "tags": []
   },
   "outputs": [
    {
     "data": {
      "text/plain": [
       "sentiment\n",
       "Negative    853\n",
       "Positive    765\n",
       "Name: count, dtype: int64"
      ]
     },
     "execution_count": 5,
     "metadata": {},
     "output_type": "execute_result"
    }
   ],
   "source": [
    "labeled_df['sentiment'].value_counts()"
   ]
  },
  {
   "cell_type": "markdown",
   "id": "ee0ec713",
   "metadata": {
    "papermill": {
     "duration": 0.004552,
     "end_time": "2025-05-14T17:11:45.936969",
     "exception": false,
     "start_time": "2025-05-14T17:11:45.932417",
     "status": "completed"
    },
    "tags": []
   },
   "source": [
    "# Train-Test Split with Stratification"
   ]
  },
  {
   "cell_type": "code",
   "execution_count": 6,
   "id": "b78a9fbc",
   "metadata": {
    "execution": {
     "iopub.execute_input": "2025-05-14T17:11:45.947424Z",
     "iopub.status.busy": "2025-05-14T17:11:45.947160Z",
     "iopub.status.idle": "2025-05-14T17:11:48.445411Z",
     "shell.execute_reply": "2025-05-14T17:11:48.444388Z"
    },
    "papermill": {
     "duration": 2.505553,
     "end_time": "2025-05-14T17:11:48.447139",
     "exception": false,
     "start_time": "2025-05-14T17:11:45.941586",
     "status": "completed"
    },
    "tags": []
   },
   "outputs": [],
   "source": [
    "from sklearn.model_selection import train_test_split\n",
    "from sklearn.naive_bayes import MultinomialNB\n",
    "from sklearn.neighbors import KNeighborsClassifier\n",
    "from sklearn.tree import DecisionTreeClassifier\n",
    "from sklearn.svm import LinearSVC\n",
    "from sklearn.metrics import (\n",
    "    accuracy_score, classification_report,\n",
    "    confusion_matrix, precision_score, recall_score, f1_score\n",
    ")\n",
    "import seaborn as sns\n",
    "import matplotlib.pyplot as plt"
   ]
  },
  {
   "cell_type": "code",
   "execution_count": 7,
   "id": "13ce4bde",
   "metadata": {
    "execution": {
     "iopub.execute_input": "2025-05-14T17:11:48.458207Z",
     "iopub.status.busy": "2025-05-14T17:11:48.457739Z",
     "iopub.status.idle": "2025-05-14T17:11:48.479224Z",
     "shell.execute_reply": "2025-05-14T17:11:48.478378Z"
    },
    "papermill": {
     "duration": 0.0291,
     "end_time": "2025-05-14T17:11:48.481065",
     "exception": false,
     "start_time": "2025-05-14T17:11:48.451965",
     "status": "completed"
    },
    "tags": []
   },
   "outputs": [],
   "source": [
    "# Keep only labeled data\n",
    "labeled_df = df[df['sentiment'].notna()].copy()\n",
    "\n",
    "# Create stratification column\n",
    "labeled_df['stratify_col'] = labeled_df['lang_type'].astype(str) + \"_\" + labeled_df['sentiment'].astype(str)\n",
    "\n",
    "# Stratified split\n",
    "train_df, test_df = train_test_split(\n",
    "    labeled_df,\n",
    "    test_size=0.2,\n",
    "    stratify=labeled_df['stratify_col'],\n",
    "    random_state=42\n",
    ")"
   ]
  },
  {
   "cell_type": "code",
   "execution_count": 8,
   "id": "e083738a",
   "metadata": {
    "execution": {
     "iopub.execute_input": "2025-05-14T17:11:48.492588Z",
     "iopub.status.busy": "2025-05-14T17:11:48.492240Z",
     "iopub.status.idle": "2025-05-14T17:11:48.501813Z",
     "shell.execute_reply": "2025-05-14T17:11:48.500787Z"
    },
    "papermill": {
     "duration": 0.017063,
     "end_time": "2025-05-14T17:11:48.503320",
     "exception": false,
     "start_time": "2025-05-14T17:11:48.486257",
     "status": "completed"
    },
    "tags": []
   },
   "outputs": [
    {
     "name": "stdout",
     "output_type": "stream",
     "text": [
      " Full dataset distribution:\n",
      "stratify_col\n",
      "english_Positive    705\n",
      "english_Negative    691\n",
      "bangla_Negative     120\n",
      "bangla_Positive      48\n",
      "mixed_Negative       42\n",
      "mixed_Positive       12\n",
      "Name: count, dtype: int64\n",
      "\n",
      " Full dataset proportions:\n",
      "stratify_col\n",
      "english_Positive    0.435723\n",
      "english_Negative    0.427070\n",
      "bangla_Negative     0.074166\n",
      "bangla_Positive     0.029666\n",
      "mixed_Negative      0.025958\n",
      "mixed_Positive      0.007417\n",
      "Name: proportion, dtype: float64\n"
     ]
    }
   ],
   "source": [
    "# Show absolute counts\n",
    "print(\" Full dataset distribution:\")\n",
    "print(labeled_df['stratify_col'].value_counts())\n",
    "\n",
    "# Show proportions\n",
    "print(\"\\n Full dataset proportions:\")\n",
    "print(labeled_df['stratify_col'].value_counts(normalize=True))\n"
   ]
  },
  {
   "cell_type": "markdown",
   "id": "70270767",
   "metadata": {
    "papermill": {
     "duration": 0.004724,
     "end_time": "2025-05-14T17:11:48.513556",
     "exception": false,
     "start_time": "2025-05-14T17:11:48.508832",
     "status": "completed"
    },
    "tags": []
   },
   "source": [
    "# TF-IDF Feature Extraction for ML"
   ]
  },
  {
   "cell_type": "code",
   "execution_count": 9,
   "id": "3d0befa9",
   "metadata": {
    "execution": {
     "iopub.execute_input": "2025-05-14T17:11:48.524832Z",
     "iopub.status.busy": "2025-05-14T17:11:48.524168Z",
     "iopub.status.idle": "2025-05-14T17:11:48.746557Z",
     "shell.execute_reply": "2025-05-14T17:11:48.745663Z"
    },
    "papermill": {
     "duration": 0.229831,
     "end_time": "2025-05-14T17:11:48.748190",
     "exception": false,
     "start_time": "2025-05-14T17:11:48.518359",
     "status": "completed"
    },
    "tags": []
   },
   "outputs": [],
   "source": [
    "from sklearn.feature_extraction.text import TfidfVectorizer\n",
    "\n",
    "train_df['processed_review'] = train_df['lemmatized'].apply(lambda tokens: ' '.join(tokens) if isinstance(tokens, list) else tokens)\n",
    "test_df['processed_review'] = test_df['lemmatized'].apply(lambda tokens: ' '.join(tokens) if isinstance(tokens, list) else tokens)\n",
    "# TF-IDF using word and character n-grams (you can tweak this)\n",
    "tfidf = TfidfVectorizer(analyzer='char_wb', ngram_range=(1, 3), max_features=5000)\n",
    "\n",
    "# Fit on training data\n",
    "X_train_tfidf = tfidf.fit_transform(train_df['processed_review'])\n",
    "\n",
    "# Transform test data\n",
    "X_test_tfidf = tfidf.transform(test_df['cleaned_review'])"
   ]
  },
  {
   "cell_type": "code",
   "execution_count": 10,
   "id": "86005122",
   "metadata": {
    "execution": {
     "iopub.execute_input": "2025-05-14T17:11:48.759524Z",
     "iopub.status.busy": "2025-05-14T17:11:48.759161Z",
     "iopub.status.idle": "2025-05-14T17:11:48.764842Z",
     "shell.execute_reply": "2025-05-14T17:11:48.763961Z"
    },
    "papermill": {
     "duration": 0.012828,
     "end_time": "2025-05-14T17:11:48.766181",
     "exception": false,
     "start_time": "2025-05-14T17:11:48.753353",
     "status": "completed"
    },
    "tags": []
   },
   "outputs": [
    {
     "data": {
      "text/plain": [
       "(1294, 5000)"
      ]
     },
     "execution_count": 10,
     "metadata": {},
     "output_type": "execute_result"
    }
   ],
   "source": [
    " X_train_tfidf.shape"
   ]
  },
  {
   "cell_type": "code",
   "execution_count": 11,
   "id": "386e2ac8",
   "metadata": {
    "execution": {
     "iopub.execute_input": "2025-05-14T17:11:48.777743Z",
     "iopub.status.busy": "2025-05-14T17:11:48.777118Z",
     "iopub.status.idle": "2025-05-14T17:11:48.784152Z",
     "shell.execute_reply": "2025-05-14T17:11:48.783092Z"
    },
    "papermill": {
     "duration": 0.014389,
     "end_time": "2025-05-14T17:11:48.785699",
     "exception": false,
     "start_time": "2025-05-14T17:11:48.771310",
     "status": "completed"
    },
    "tags": []
   },
   "outputs": [
    {
     "name": "stdout",
     "output_type": "stream",
     "text": [
      "Label mapping: {'Negative': 0, 'Positive': 1}\n"
     ]
    }
   ],
   "source": [
    "from sklearn.preprocessing import LabelEncoder\n",
    "\n",
    "le = LabelEncoder()\n",
    "y_train = le.fit_transform(train_df['sentiment'])\n",
    "y_test = le.transform(test_df['sentiment'])\n",
    "\n",
    "print(\"Label mapping:\", dict(zip(le.classes_, le.transform(le.classes_))))"
   ]
  },
  {
   "cell_type": "markdown",
   "id": "0c64f5d0",
   "metadata": {
    "papermill": {
     "duration": 0.004645,
     "end_time": "2025-05-14T17:11:48.795651",
     "exception": false,
     "start_time": "2025-05-14T17:11:48.791006",
     "status": "completed"
    },
    "tags": []
   },
   "source": [
    "# SVM (Support Vector Machine) Model"
   ]
  },
  {
   "cell_type": "code",
   "execution_count": 12,
   "id": "a92ae040",
   "metadata": {
    "execution": {
     "iopub.execute_input": "2025-05-14T17:11:48.807754Z",
     "iopub.status.busy": "2025-05-14T17:11:48.806892Z",
     "iopub.status.idle": "2025-05-14T17:11:48.840729Z",
     "shell.execute_reply": "2025-05-14T17:11:48.839292Z"
    },
    "papermill": {
     "duration": 0.041831,
     "end_time": "2025-05-14T17:11:48.842302",
     "exception": false,
     "start_time": "2025-05-14T17:11:48.800471",
     "status": "completed"
    },
    "tags": []
   },
   "outputs": [
    {
     "name": "stdout",
     "output_type": "stream",
     "text": [
      "SVM model trained.\n",
      "\n",
      " SVM Evaluation \n",
      "Accuracy: 0.7993827160493827\n",
      "\n",
      "Classification Report:\n",
      "               precision    recall  f1-score   support\n",
      "\n",
      "           0       0.93      0.67      0.78       171\n",
      "           1       0.72      0.94      0.82       153\n",
      "\n",
      "    accuracy                           0.80       324\n",
      "   macro avg       0.82      0.81      0.80       324\n",
      "weighted avg       0.83      0.80      0.80       324\n",
      "\n"
     ]
    }
   ],
   "source": [
    "# Initialize SVM model\n",
    "svm_model = LinearSVC()\n",
    "\n",
    "# Train the SVM model\n",
    "svm_model.fit(X_train_tfidf, y_train)\n",
    "print(\"SVM model trained.\")\n",
    "\n",
    "# Predict on test data\n",
    "y_pred_svm = svm_model.predict(X_test_tfidf)\n",
    "\n",
    "# Evaluation for SVM model\n",
    "print(\"\\n SVM Evaluation \")\n",
    "print(\"Accuracy:\", accuracy_score(y_test, y_pred_svm))\n",
    "print(\"\\nClassification Report:\\n\", classification_report(y_test, y_pred_svm))\n"
   ]
  },
  {
   "cell_type": "code",
   "execution_count": 13,
   "id": "bd933b5a",
   "metadata": {
    "execution": {
     "iopub.execute_input": "2025-05-14T17:11:48.854440Z",
     "iopub.status.busy": "2025-05-14T17:11:48.853977Z",
     "iopub.status.idle": "2025-05-14T17:11:49.157468Z",
     "shell.execute_reply": "2025-05-14T17:11:49.156586Z"
    },
    "papermill": {
     "duration": 0.311323,
     "end_time": "2025-05-14T17:11:49.159028",
     "exception": false,
     "start_time": "2025-05-14T17:11:48.847705",
     "status": "completed"
    },
    "tags": []
   },
   "outputs": [
    {
     "data": {
      "image/png": "[encoded data removed]",
      "text/plain": [
       "<Figure size 600x500 with 2 Axes>"
      ]
     },
     "metadata": {},
     "output_type": "display_data"
    }
   ],
   "source": [
    "# Confusion Matrix\n",
    "cm_svm = confusion_matrix(y_test, y_pred_svm)\n",
    "plt.figure(figsize=(6, 5))\n",
    "sns.heatmap(cm_svm, annot=True, fmt='d', cmap='Blues', xticklabels=le.classes_, yticklabels=le.classes_)\n",
    "plt.title(\"Confusion Matrix for SVM\")\n",
    "plt.ylabel('Actual')\n",
    "plt.xlabel('Predicted')\n",
    "plt.show()"
   ]
  },
  {
   "cell_type": "markdown",
   "id": "2dfebaa4",
   "metadata": {
    "papermill": {
     "duration": 0.005253,
     "end_time": "2025-05-14T17:11:49.170198",
     "exception": false,
     "start_time": "2025-05-14T17:11:49.164945",
     "status": "completed"
    },
    "tags": []
   },
   "source": [
    "# Naive Bayes Model"
   ]
  },
  {
   "cell_type": "code",
   "execution_count": 14,
   "id": "c7bc0bd1",
   "metadata": {
    "execution": {
     "iopub.execute_input": "2025-05-14T17:11:49.182672Z",
     "iopub.status.busy": "2025-05-14T17:11:49.182338Z",
     "iopub.status.idle": "2025-05-14T17:11:49.218207Z",
     "shell.execute_reply": "2025-05-14T17:11:49.217110Z"
    },
    "papermill": {
     "duration": 0.044097,
     "end_time": "2025-05-14T17:11:49.219698",
     "exception": false,
     "start_time": "2025-05-14T17:11:49.175601",
     "status": "completed"
    },
    "tags": []
   },
   "outputs": [
    {
     "name": "stdout",
     "output_type": "stream",
     "text": [
      "Naive Bayes model trained.\n",
      "\n",
      " Naive Bayes Evaluation \n",
      "Accuracy: 0.8919753086419753\n",
      "\n",
      "Classification Report:\n",
      "               precision    recall  f1-score   support\n",
      "\n",
      "           0       0.86      0.95      0.90       171\n",
      "           1       0.93      0.83      0.88       153\n",
      "\n",
      "    accuracy                           0.89       324\n",
      "   macro avg       0.90      0.89      0.89       324\n",
      "weighted avg       0.90      0.89      0.89       324\n",
      "\n"
     ]
    }
   ],
   "source": [
    "# Initialize Naive Bayes model\n",
    "nb_model = MultinomialNB()\n",
    "\n",
    "# Train the Naive Bayes model\n",
    "nb_model.fit(X_train_tfidf, y_train)\n",
    "print(\"Naive Bayes model trained.\")\n",
    "\n",
    "# Predict on test data\n",
    "y_pred_nb = nb_model.predict(X_test_tfidf)\n",
    "\n",
    "# Evaluation for Naive Bayes model\n",
    "print(\"\\n Naive Bayes Evaluation \")\n",
    "print(\"Accuracy:\", accuracy_score(y_test, y_pred_nb))\n",
    "print(\"\\nClassification Report:\\n\", classification_report(y_test, y_pred_nb))"
   ]
  },
  {
   "cell_type": "code",
   "execution_count": 15,
   "id": "01af32cd",
   "metadata": {
    "execution": {
     "iopub.execute_input": "2025-05-14T17:11:49.232581Z",
     "iopub.status.busy": "2025-05-14T17:11:49.232270Z",
     "iopub.status.idle": "2025-05-14T17:11:49.417121Z",
     "shell.execute_reply": "2025-05-14T17:11:49.416195Z"
    },
    "papermill": {
     "duration": 0.193155,
     "end_time": "2025-05-14T17:11:49.418710",
     "exception": false,
     "start_time": "2025-05-14T17:11:49.225555",
     "status": "completed"
    },
    "tags": []
   },
   "outputs": [
    {
     "data": {
      "image/png": "[encoded data removed]",
      "text/plain": [
       "<Figure size 600x500 with 2 Axes>"
      ]
     },
     "metadata": {},
     "output_type": "display_data"
    }
   ],
   "source": [
    "# Confusion Matrix\n",
    "cm_nb = confusion_matrix(y_test, y_pred_nb)\n",
    "plt.figure(figsize=(6, 5))\n",
    "sns.heatmap(cm_nb, annot=True, fmt='d', cmap='Blues', xticklabels=le.classes_, yticklabels=le.classes_)\n",
    "plt.title(\"Confusion Matrix for Naive Bayes\")\n",
    "plt.ylabel('Actual')\n",
    "plt.xlabel('Predicted')\n",
    "plt.show()\n"
   ]
  },
  {
   "cell_type": "markdown",
   "id": "6172cb96",
   "metadata": {
    "papermill": {
     "duration": 0.00579,
     "end_time": "2025-05-14T17:11:49.430898",
     "exception": false,
     "start_time": "2025-05-14T17:11:49.425108",
     "status": "completed"
    },
    "tags": []
   },
   "source": [
    "# Decision Tree Model"
   ]
  },
  {
   "cell_type": "code",
   "execution_count": 16,
   "id": "f8dc01b2",
   "metadata": {
    "execution": {
     "iopub.execute_input": "2025-05-14T17:11:49.443988Z",
     "iopub.status.busy": "2025-05-14T17:11:49.443696Z",
     "iopub.status.idle": "2025-05-14T17:11:49.779808Z",
     "shell.execute_reply": "2025-05-14T17:11:49.778713Z"
    },
    "papermill": {
     "duration": 0.344497,
     "end_time": "2025-05-14T17:11:49.781385",
     "exception": false,
     "start_time": "2025-05-14T17:11:49.436888",
     "status": "completed"
    },
    "tags": []
   },
   "outputs": [
    {
     "name": "stdout",
     "output_type": "stream",
     "text": [
      "Decision Tree model trained.\n",
      "\n",
      " Decision Tree Evaluation \n",
      "Accuracy: 0.4660493827160494\n",
      "\n",
      "Classification Report:\n",
      "               precision    recall  f1-score   support\n",
      "\n",
      "           0       0.47      0.11      0.17       171\n",
      "           1       0.47      0.87      0.61       153\n",
      "\n",
      "    accuracy                           0.47       324\n",
      "   macro avg       0.47      0.49      0.39       324\n",
      "weighted avg       0.47      0.47      0.38       324\n",
      "\n"
     ]
    }
   ],
   "source": [
    "# Initialize Decision Tree model\n",
    "dt_model = DecisionTreeClassifier(random_state=42)\n",
    "\n",
    "# Train the Decision Tree model\n",
    "dt_model.fit(X_train_tfidf, y_train)\n",
    "print(\"Decision Tree model trained.\")\n",
    "\n",
    "# Predict on test data\n",
    "y_pred_dt = dt_model.predict(X_test_tfidf)\n",
    "\n",
    "# Evaluation for Decision Tree model\n",
    "print(\"\\n Decision Tree Evaluation \")\n",
    "print(\"Accuracy:\", accuracy_score(y_test, y_pred_dt))\n",
    "print(\"\\nClassification Report:\\n\", classification_report(y_test, y_pred_dt))"
   ]
  },
  {
   "cell_type": "code",
   "execution_count": 17,
   "id": "38e7ab72",
   "metadata": {
    "execution": {
     "iopub.execute_input": "2025-05-14T17:11:49.794803Z",
     "iopub.status.busy": "2025-05-14T17:11:49.794396Z",
     "iopub.status.idle": "2025-05-14T17:11:49.969898Z",
     "shell.execute_reply": "2025-05-14T17:11:49.968947Z"
    },
    "papermill": {
     "duration": 0.183725,
     "end_time": "2025-05-14T17:11:49.971369",
     "exception": false,
     "start_time": "2025-05-14T17:11:49.787644",
     "status": "completed"
    },
    "tags": []
   },
   "outputs": [
    {
     "data": {
      "image/png": "[encoded data removed]",
      "text/plain": [
       "<Figure size 600x500 with 2 Axes>"
      ]
     },
     "metadata": {},
     "output_type": "display_data"
    }
   ],
   "source": [
    "# Confusion Matrix\n",
    "cm_dt = confusion_matrix(y_test, y_pred_dt)\n",
    "plt.figure(figsize=(6, 5))\n",
    "sns.heatmap(cm_dt, annot=True, fmt='d', cmap='Blues', xticklabels=le.classes_, yticklabels=le.classes_)\n",
    "plt.title(\"Confusion Matrix for Decision Tree\")\n",
    "plt.ylabel('Actual')\n",
    "plt.xlabel('Predicted')\n",
    "plt.show()\n"
   ]
  },
  {
   "cell_type": "markdown",
   "id": "95aa8e2e",
   "metadata": {
    "papermill": {
     "duration": 0.006185,
     "end_time": "2025-05-14T17:11:49.984235",
     "exception": false,
     "start_time": "2025-05-14T17:11:49.978050",
     "status": "completed"
    },
    "tags": []
   },
   "source": [
    "# Logistic Regression Model"
   ]
  },
  {
   "cell_type": "code",
   "execution_count": 18,
   "id": "e2ccef13",
   "metadata": {
    "execution": {
     "iopub.execute_input": "2025-05-14T17:11:49.998538Z",
     "iopub.status.busy": "2025-05-14T17:11:49.997906Z",
     "iopub.status.idle": "2025-05-14T17:11:50.088733Z",
     "shell.execute_reply": "2025-05-14T17:11:50.086662Z"
    },
    "papermill": {
     "duration": 0.100381,
     "end_time": "2025-05-14T17:11:50.090842",
     "exception": false,
     "start_time": "2025-05-14T17:11:49.990461",
     "status": "completed"
    },
    "tags": []
   },
   "outputs": [
    {
     "name": "stdout",
     "output_type": "stream",
     "text": [
      "Logistic Regression model trained.\n",
      "\n",
      " Logistic Regression Evaluation\n",
      "Accuracy: 0.7901234567901234\n",
      "\n",
      "Classification Report:\n",
      "               precision    recall  f1-score   support\n",
      "\n",
      "           0       0.94      0.64      0.76       171\n",
      "           1       0.71      0.95      0.81       153\n",
      "\n",
      "    accuracy                           0.79       324\n",
      "   macro avg       0.82      0.80      0.79       324\n",
      "weighted avg       0.83      0.79      0.79       324\n",
      "\n"
     ]
    }
   ],
   "source": [
    "from sklearn.linear_model import LogisticRegression\n",
    "# Initialize Logistic Regression model\n",
    "logreg_model = LogisticRegression(max_iter=1000, random_state=42)\n",
    "\n",
    "# Train the Logistic Regression model\n",
    "logreg_model.fit(X_train_tfidf, y_train)\n",
    "print(\"Logistic Regression model trained.\")\n",
    "\n",
    "# Predict on test data\n",
    "y_pred_logreg = logreg_model.predict(X_test_tfidf)\n",
    "\n",
    "# Evaluation for Logistic Regression model\n",
    "print(\"\\n Logistic Regression Evaluation\")\n",
    "print(\"Accuracy:\", accuracy_score(y_test, y_pred_logreg))\n",
    "print(\"\\nClassification Report:\\n\", classification_report(y_test, y_pred_logreg))\n"
   ]
  },
  {
   "cell_type": "code",
   "execution_count": 19,
   "id": "3b8e43ae",
   "metadata": {
    "execution": {
     "iopub.execute_input": "2025-05-14T17:11:50.115572Z",
     "iopub.status.busy": "2025-05-14T17:11:50.115213Z",
     "iopub.status.idle": "2025-05-14T17:11:50.320005Z",
     "shell.execute_reply": "2025-05-14T17:11:50.318996Z"
    },
    "papermill": {
     "duration": 0.219074,
     "end_time": "2025-05-14T17:11:50.321540",
     "exception": false,
     "start_time": "2025-05-14T17:11:50.102466",
     "status": "completed"
    },
    "tags": []
   },
   "outputs": [
    {
     "data": {
      "image/png": "[encoded data removed]",
      "text/plain": [
       "<Figure size 600x500 with 2 Axes>"
      ]
     },
     "metadata": {},
     "output_type": "display_data"
    }
   ],
   "source": [
    "# Confusion Matrix\n",
    "cm_logreg = confusion_matrix(y_test, y_pred_logreg)\n",
    "plt.figure(figsize=(6, 5))\n",
    "sns.heatmap(cm_logreg, annot=True, fmt='d', cmap='Blues', xticklabels=le.classes_, yticklabels=le.classes_)\n",
    "plt.title(\"Confusion Matrix for Logistic Regression\")\n",
    "plt.ylabel('Actual')\n",
    "plt.xlabel('Predicted')\n",
    "plt.show()"
   ]
  },
  {
   "cell_type": "markdown",
   "id": "24420c17",
   "metadata": {
    "papermill": {
     "duration": 0.006693,
     "end_time": "2025-05-14T17:11:50.335267",
     "exception": false,
     "start_time": "2025-05-14T17:11:50.328574",
     "status": "completed"
    },
    "tags": []
   },
   "source": [
    "# Random Forest Model"
   ]
  },
  {
   "cell_type": "code",
   "execution_count": 20,
   "id": "cd0e471a",
   "metadata": {
    "execution": {
     "iopub.execute_input": "2025-05-14T17:11:50.350181Z",
     "iopub.status.busy": "2025-05-14T17:11:50.349875Z",
     "iopub.status.idle": "2025-05-14T17:11:51.402825Z",
     "shell.execute_reply": "2025-05-14T17:11:51.401549Z"
    },
    "papermill": {
     "duration": 1.062229,
     "end_time": "2025-05-14T17:11:51.404294",
     "exception": false,
     "start_time": "2025-05-14T17:11:50.342065",
     "status": "completed"
    },
    "tags": []
   },
   "outputs": [
    {
     "name": "stdout",
     "output_type": "stream",
     "text": [
      "Random Forest model trained.\n",
      "\n",
      " Random Forest Evaluation\n",
      "Accuracy: 0.8765432098765432\n",
      "\n",
      "Classification Report:\n",
      "               precision    recall  f1-score   support\n",
      "\n",
      "           0       0.89      0.88      0.88       171\n",
      "           1       0.86      0.88      0.87       153\n",
      "\n",
      "    accuracy                           0.88       324\n",
      "   macro avg       0.88      0.88      0.88       324\n",
      "weighted avg       0.88      0.88      0.88       324\n",
      "\n"
     ]
    }
   ],
   "source": [
    "from sklearn.ensemble import RandomForestClassifier\n",
    "# Initialize Random Forest model\n",
    "rf_model = RandomForestClassifier(random_state=42)\n",
    "\n",
    "# Train the Random Forest model\n",
    "rf_model.fit(X_train_tfidf, y_train)\n",
    "print(\"Random Forest model trained.\")\n",
    "\n",
    "# Predict on test data\n",
    "y_pred_rf = rf_model.predict(X_test_tfidf)\n",
    "\n",
    "# Evaluation for Random Forest model\n",
    "print(\"\\n Random Forest Evaluation\")\n",
    "print(\"Accuracy:\", accuracy_score(y_test, y_pred_rf))\n",
    "print(\"\\nClassification Report:\\n\", classification_report(y_test, y_pred_rf))\n"
   ]
  },
  {
   "cell_type": "code",
   "execution_count": 21,
   "id": "0ac82bcd",
   "metadata": {
    "execution": {
     "iopub.execute_input": "2025-05-14T17:11:51.420348Z",
     "iopub.status.busy": "2025-05-14T17:11:51.419479Z",
     "iopub.status.idle": "2025-05-14T17:11:51.611524Z",
     "shell.execute_reply": "2025-05-14T17:11:51.610669Z"
    },
    "papermill": {
     "duration": 0.201797,
     "end_time": "2025-05-14T17:11:51.613261",
     "exception": false,
     "start_time": "2025-05-14T17:11:51.411464",
     "status": "completed"
    },
    "tags": []
   },
   "outputs": [
    {
     "data": {
      "image/png": "[encoded data removed]",
      "text/plain": [
       "<Figure size 600x500 with 2 Axes>"
      ]
     },
     "metadata": {},
     "output_type": "display_data"
    }
   ],
   "source": [
    "# Confusion Matrix\n",
    "cm_rf = confusion_matrix(y_test, y_pred_rf)\n",
    "plt.figure(figsize=(6, 5))\n",
    "sns.heatmap(cm_rf, annot=True, fmt='d', cmap='Blues', xticklabels=le.classes_, yticklabels=le.classes_)\n",
    "plt.title(\"Confusion Matrix for Random Forest\")\n",
    "plt.ylabel('Actual')\n",
    "plt.xlabel('Predicted')\n",
    "plt.show()"
   ]
  }
 ],
 "metadata": {
  "kaggle": {
   "accelerator": "none",
   "dataSources": [
    {
     "datasetId": 7418689,
     "sourceId": 11811882,
     "sourceType": "datasetVersion"
    }
   ],
   "dockerImageVersionId": 31040,
   "isGpuEnabled": false,
   "isInternetEnabled": true,
   "language": "python",
   "sourceType": "notebook"
  },
  "kernelspec": {
   "display_name": "Python 3",
   "language": "python",
   "name": "python3"
  },
  "language_info": {
   "codemirror_mode": {
    "name": "ipython",
    "version": 3
   },
   "file_extension": ".py",
   "mimetype": "text/x-python",
   "name": "python",
   "nbconvert_exporter": "python",
   "pygments_lexer": "ipython3",
   "version": "3.11.11"
  },
  "papermill": {
   "default_parameters": {},
   "duration": 15.138473,
   "end_time": "2025-05-14T17:11:52.341014",
   "environment_variables": {},
   "exception": null,
   "input_path": "__notebook__.ipynb",
   "output_path": "__notebook__.ipynb",
   "parameters": {},
   "start_time": "2025-05-14T17:11:37.202541",
   "version": "2.6.0"
  }
 },
 "nbformat": 4,
 "nbformat_minor": 5
}
